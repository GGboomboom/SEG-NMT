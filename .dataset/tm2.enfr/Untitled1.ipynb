{
 "cells": [
  {
   "cell_type": "code",
   "execution_count": null,
   "metadata": {
    "collapsed": true
   },
   "outputs": [],
   "source": [
    "from nltk import metrics\n",
    "import numpy\n",
    "import time\n",
    "import editdistance\n",
    "import cPickle as pkl\n",
    "with open('/root/workspace/dl4mt-tutorial2/data_raw_enfr/enfr.top100.pkl', 'rb') as f:\n",
    "    enfr_top100 = pkl.load(f)\n",
    " \n",
    "en_index, en_pair100 = enfr_top100\n",
    "print 'Done'"
   ]
  },
  {
   "cell_type": "code",
   "execution_count": null,
   "metadata": {
    "collapsed": true
   },
   "outputs": [],
   "source": [
    "# train_en = []\n",
    "with open('/root/workspace/dl4mt-tutorial2/data_raw_enfr/train.en.lc.escp', 'rb') as f:\n",
    "    while True:\n",
    "        ss = f.readline()\n",
    "        if ss == '':\n",
    "            break\n",
    "        train_en.append(ss)\n",
    "         \n",
    "train_fr = []\n",
    " \n",
    "with open('/root/workspace/dl4mt-tutorial2/data_raw_enfr/train.fr.lc.escp', 'rb') as f:\n",
    "    while True:\n",
    "        ss = f.readline()\n",
    "        if ss == '':\n",
    "            break\n",
    "        train_fr.append(ss)\n",
    "\n",
    "edit_dis = [[] for i in numpy.arange(len(train_en))]\n",
    "edit_dis_top5 = [[] for i in numpy.arange(len(train_en))]\n",
    "delete_list = []\n",
    "for i in range(len(train_en)):\n",
    " \n",
    "    start = time.time()\n",
    "    if len(en_pair100[i]) != len(en_pair100[0]):\n",
    "        delete_list.append(i)\n",
    "        continue\n",
    "    for j in numpy.arange(len(en_pair100[0])):\n",
    "        edit_dis[i].append(editdistance.eval(train_en[i].split(),train_en[en_pair100[i][j]].split()))\n",
    "       \n",
    "    similiar_sentence = numpy.argsort(edit_dis[i])\n",
    "    \n",
    "    edit_dis_top5.append(similiar_sentence[-6:-1])\n",
    "    \n",
    "    if i%10000 == 0:\n",
    "        print i\n"
   ]
  },
  {
   "cell_type": "code",
   "execution_count": null,
   "metadata": {
    "collapsed": true
   },
   "outputs": [],
   "source": []
  }
 ],
 "metadata": {
  "kernelspec": {
   "display_name": "Python 2",
   "language": "python",
   "name": "python2"
  },
  "language_info": {
   "codemirror_mode": {
    "name": "ipython",
    "version": 2
   },
   "file_extension": ".py",
   "mimetype": "text/x-python",
   "name": "python",
   "nbconvert_exporter": "python",
   "pygments_lexer": "ipython2",
   "version": "2.7.6"
  }
 },
 "nbformat": 4,
 "nbformat_minor": 2
}
